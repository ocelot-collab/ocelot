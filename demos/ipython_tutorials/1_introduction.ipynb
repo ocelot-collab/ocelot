{
 "cells": [
  {
   "cell_type": "markdown",
   "metadata": {},
   "source": [
    "*This notebook was created by Sergey Tomin (sergey.tomin@desy.de). Source and license info is on [GitHub](https://github.com/ocelot-collab/ocelot). April 2020.*"
   ]
  },
  {
   "cell_type": "markdown",
   "metadata": {},
   "source": [
    "# An Introduction to Ocelot\n",
    "\n",
    "Ocelot is a multiphysics simulation toolkit designed for studying FEL and storage ring based light sources. Ocelot is written in Python. Its central concept is the writing of python's scripts for simulations with the usage of Ocelot's modules and functions and the standard Python libraries. \n",
    "\n",
    "Ocelot includes following main modules:\n",
    "* **Charged particle beam dynamics module (CPBD)**\n",
    "    - optics\n",
    "    - tracking\n",
    "    - matching\n",
    "    - collective effects (description can be found [here](http://vrws.de/ipac2017/papers/wepab031.pdf) and [here](https://journals.aps.org/prab/abstract/10.1103/PhysRevAccelBeams.22.024401)) \n",
    "        - Space Charge (3D Laplace solver) \n",
    "        - CSR (Coherent Synchrotron Radiation) (1D model with arbitrary number of dipoles).\n",
    "        - Wakefields (Taylor expansion up to second order for arbitrary geometry).\n",
    "    - MOGA (Multi Objective Genetics Algorithm) [ref](http://accelconf.web.cern.ch/AccelConf/ipac2016/papers/thpmb034.pdf).\n",
    "* **Native module for spontaneous radiation calculation** (some details can be found [here](http://accelconf.web.cern.ch/AccelConf/ipac2019/papers/wepts017.pdf) and [here](http://scripts.iucr.org/cgi-bin/paper?S1600577519002509))\n",
    "* **FEL calculations: interface to GENESIS and pre/post-processing**\n",
    "* **Modules for online beam control and online optimization of accelerator performances.**   [ref1](http://accelconf.web.cern.ch/accelconf/IPAC2014/papers/mopro086.pdf), [ref2](https://jacowfs.jlab.org/conf/y15/ipac15/prepress/TUPWA037.PDF), [ref3](http://accelconf.web.cern.ch/AccelConf/ipac2016/papers/wepoy036.pdf), [ref4](https://arxiv.org/pdf/1704.02335.pdf).\n",
    "    - This module is being developed in collaboration with other accelerator groups. The module has been migrated to a separate [repository](https://github.com/ocelot-collab/optimizer) (in [ocelot-collab](https://github.com/ocelot-collab) organization) for ease of collaborative development.\n",
    "\n",
    "Ocelot extensively  uses Python's [NumPy (Numerical Python)](http://numpy.org) and [SciPy (Scientific Python)](http://scipy.org) libraries, which enable efficient in-core numerical and scientific computation within Python and give you access to various mathematical and optimization techniques and algorithms. To produce high quality figures Python's [matplotlib](http://matplotlib.org/index.html) library is used.\n",
    "\n",
    "It is an open source project and it is being developed by physicists from  [The European XFEL](http://www.xfel.eu/), [DESY](http://www.desy.de/) (Germany), [NRC Kurchatov Institute](http://www.nrcki.ru/) (Russia).\n",
    "\n",
    "We still have no documentation but you can find a lot of examples in /demos/ folder including this tutorial\n",
    "\n",
    "\n",
    "## Ocelot user profile\n",
    "\n",
    "Ocelot is designed for researchers who want to have the flexibility that is given by high-level languages such as Matlab, Python (with Numpy and SciPy) or Mathematica.\n",
    "However if someone needs a GUI  it can be developed using Python's libraries like a [PyQtGraph](http://www.pyqtgraph.org/) or [PyQt](http://pyqt.sourceforge.net/Docs/PyQt4/). \n",
    "\n",
    "For example, you can see GUI for SASE optimization (uncomment and run next block)"
   ]
  },
  {
   "cell_type": "code",
   "execution_count": 4,
   "metadata": {},
   "outputs": [],
   "source": [
    "from IPython.display import Image\n",
    "# Image(filename='gui_example.png')"
   ]
  },
  {
   "cell_type": "markdown",
   "metadata": {},
   "source": [
    "## Tutorials\n",
    "* Preliminaries: Setup & introduction\n",
    "\n",
    "#### Beam dynamics\n",
    "\n",
    "* [Introduction. Tutorial N1. Linear optics.](#tutorial1). [Web version](http://nbviewer.jupyter.org/github/ocelot-collab/ocelot/blob/master/demos/ipython_tutorials/1_introduction.ipynb).\n",
    "    - Linear optics. Double Bend Achromat (DBA). Simple example of usage OCELOT functions to get periodic solution for a storage ring cell. \n",
    "* [Tutorial N2. Tracking.](2_tracking.ipynb). [Web version](http://nbviewer.jupyter.org/github/ocelot-collab/ocelot/blob/master/demos/ipython_tutorials/2_tracking.ipynb).\n",
    "    - Linear optics of the European XFEL Injector. \n",
    "    - Tracking. First and second order. \n",
    "    - Artificial beam matching - BeamTransform\n",
    "* [Tutorial N3. Space Charge.](3_space_charge.ipynb). [Web version](http://nbviewer.jupyter.org/github/ocelot-collab/ocelot/blob/master/demos/ipython_tutorials/3_space_charge.ipynb).\n",
    "    - Tracking through RF cavities with SC effects and RF focusing.\n",
    "* [Tutorial N4. Wakefields.](4_wake.ipynb). [Web version](http://nbviewer.jupyter.org/github/ocelot-collab/ocelot/blob/master/demos/ipython_tutorials/4_wake.ipynb).\n",
    "    - Tracking through corrugated structure (energy chirper) with Wakefields\n",
    "* [Tutorial N5. CSR.](5_CSR.ipynb). [Web version](http://nbviewer.jupyter.org/github/ocelot-collab/ocelot/blob/master/demos/ipython_tutorials/5_CSR.ipynb).\n",
    "    - Tracking trough bunch compressor with CSR effect.\n",
    "* [Tutorial N6. RF Coupler Kick.](6_coupler_kick.ipynb). [Web version](http://nbviewer.jupyter.org/github/ocelot-collab/ocelot/blob/master/demos/ipython_tutorials/6_coupler_kick.ipynb).\n",
    "    - Coupler Kick. Example of RF coupler kick influence on trajectory and optics.\n",
    "* [Tutorial N7. Lattice design.](7_lattice_design.ipynb). [Web version](http://nbviewer.jupyter.org/github/ocelot-collab/ocelot/blob/master/demos/ipython_tutorials/7_lattice_design.ipynb).\n",
    "    - Lattice design, twiss matching, twiss backtracking \n",
    "* [Tutorial N8. Physics process addition. Laser heater](8_laser_heater.ipynb). [Web version](http://nbviewer.jupyter.org/github/ocelot-collab/ocelot/blob/dev/demos/ipython_tutorials/8_laser_heater.ipynb).\n",
    "    - Theory of Laser Heater, implementation of new Physics Process, track particles w/o laser heater effect.   \n",
    "* [Tutorial N9. Simple accelerator based THz source](9_thz_source.ipynb). [Web version](http://nbviewer.jupyter.org/github/ocelot-collab/ocelot/blob/dev/demos/ipython_tutorials/9_thz_source.ipynb).\n",
    "    - A simple accelerator with the electron beam formation system and an undulator to generate THz radiation. \n",
    "    \n",
    "#### Photon field simulation \n",
    "\n",
    "* [PFS tutorial N1. Synchrotron radiation module](pfs_1_synchrotron_radiation.ipynb). [Web version](http://nbviewer.jupyter.org/github/ocelot-collab/ocelot/blob/dev/demos/ipython_tutorials/pfs_1_synchrotron_radiation.ipynb).\n",
    "    - Simple examples how to calculate synchrotron radiation with OCELOT Synchrotron Radiation Module.\n",
    "* [PFS tutorial N2. Coherent radiation module and RadiationField object](pfs_2_radiation_field.ipynb). [Web version](http://nbviewer.jupyter.org/github/ocelot-collab/ocelot/blob/dev/demos/ipython_tutorials/pfs_2_radiation_field.ipynb).\n",
    "* [PFS tutorial N3. Reflection from imperfect highly polished mirror](pfs_3_imperfect_mirror.ipynb). [Web version](http://nbviewer.jupyter.org/github/ocelot-collab/ocelot/blob/dev/demos/ipython_tutorials/pfs_3_imperfect_mirror.ipynb).\n",
    "* [PFS tutorial N4. Converting synchrotron radiation Screen object to RadiationField object for viewing and propagation](pfs_4_synchrotron_radiation_visualization.ipynb). [Web version](http://nbviewer.jupyter.org/github/ocelot-collab/ocelot/blob/dev/demos/ipython_tutorials/pfs_4_synchrotron_radiation_visualization.ipynb).\n",
    "* [PFS tutorial N5: SASE estimation and imitation](pfs_5_SASE_Estimator_and_Imitator.ipynb). [Web version](http://nbviewer.jupyter.org/github/ocelot-collab/ocelot/blob/dev/demos/ipython_tutorials/pfs_5_SASE_Estimator_and_Imitator.ipynb).\n",
    "\n",
    "### Appendixes\n",
    "* [Undulator matching](undulator_matching.ipynb). [Web version](http://nbviewer.jupyter.org/github/ocelot-collab/ocelot/blob/dev/demos/ipython_tutorials/undulator_matching.ipynb).\n",
    "    - brief theory and example in OCELOT\n",
    "* [Some useful OCELOT functions](small_useful_features.ipynb). [Web version](http://nbviewer.jupyter.org/github/ocelot-collab/ocelot/blob/dev/demos/ipython_tutorials/small_useful_features.ipynb)\n",
    "    - Aperture, RK tracking "
   ]
  },
  {
   "cell_type": "markdown",
   "metadata": {},
   "source": [
    "## Preliminaries\n",
    "\n",
    "The tutorial includes 7 simple examples dedicated to beam dynamics and optics. However, you should have a basic understanding of Computer Programming terminologies. A basic understanding of Python language is a plus.\n",
    "\n",
    "##### This tutorial requires the following packages:\n",
    "\n",
    "- Python 3.4-3.6 (python 2.7 can work as well but not guaranteed)\n",
    "- `numpy` version 1.8 or later: http://www.numpy.org/\n",
    "- `scipy` version 0.15 or later: http://www.scipy.org/\n",
    "- `matplotlib` version 1.5 or later: http://matplotlib.org/\n",
    "- `ipython` version 2.4 or later, with notebook support: http://ipython.org\n",
    "\n",
    "**Optional** to speed up python \n",
    "- numexpr (version 2.6.1)\n",
    "- pyfftw (version 0.10)\n",
    "- numba \n",
    "\n",
    "**Orbit Correction module** \n",
    "- pandas \n",
    "\n",
    "The easiest way to get these is to download and install the [Anaconda software distribution](https://www.continuum.io/).\n",
    "\n",
    "Alternatively, you can download and install [miniconda](http://conda.pydata.org/miniconda.html).\n",
    "The following command will install all required packages:\n",
    "```\n",
    "$ conda install numpy scipy matplotlib jupyter\n",
    "```\n",
    "\n",
    "## Ocelot installation\n",
    "##### Anaconda Cloud\n",
    "The easiest way to install OCELOT is to use Anaconda cloud. In that case use command:\n",
    "    ```\n",
    "    $ conda install -c ocelot-collab ocelot\n",
    "    ```\n",
    "##### Explicit installation\n",
    "Another way is download ocelot from [GitHub](https://github.com/ocelot-collab/ocelot)\n",
    "1. you have to download from GitHub [zip file](https://github.com/ocelot-collab/ocelot/archive/master.zip).\n",
    "2. Unzip ocelot-master.zip to your working folder **/your_working_dir/**.\n",
    "3. Add **../your_working_dir/ocelot-master** to PYTHONPATH\n",
    "    - **Windows 7:** go to Control Panel -> System and Security -> System -> Advance System Settings -> Environment Variables.\n",
    "    and in User variables add **/your_working_dir/ocelot-master/** to PYTHONPATH. If variable PYTHONPATH does not exist, create it\n",
    "\n",
    "    Variable name: PYTHONPATH\n",
    "\n",
    "    Variable value: ../your_working_dir/ocelot-master/\n",
    "    - Linux:\n",
    "    ```\n",
    "    $ export PYTHONPATH=/your_working_dir/ocelot-master:$PYTHONPATH\n",
    "    ```\n",
    "    \n",
    "#### To launch \"ipython notebook\" or \"jupyter notebook\"\n",
    "in command line run following commands:\n",
    "\n",
    "```\n",
    "$ ipython notebook\n",
    "```\n",
    "\n",
    "or\n",
    "```\n",
    "$ ipython notebook --notebook-dir=\"path_to_your_directory\"\n",
    "```\n",
    "\n",
    "or\n",
    "```\n",
    "$ jupyter notebook --notebook-dir=\"path_to_your_directory\"\n",
    "```"
   ]
  },
  {
   "cell_type": "markdown",
   "metadata": {},
   "source": [
    "### Checking your installation\n",
    "\n",
    "You can run the following code to check the versions of the packages on your system:\n",
    "\n",
    "(in IPython notebook, press `shift` and `return` together to execute the contents of a cell)"
   ]
  },
  {
   "cell_type": "code",
   "execution_count": 6,
   "metadata": {},
   "outputs": [
    {
     "name": "stdout",
     "output_type": "stream",
     "text": [
      "IPython: 7.11.1\n",
      "numpy: 1.18.1\n",
      "scipy: 1.3.1\n",
      "matplotlib: 3.1.1\n",
      "initializing ocelot...\n",
      "ocelot: 20.04.0\n"
     ]
    }
   ],
   "source": [
    "import IPython\n",
    "print('IPython:', IPython.__version__)\n",
    "\n",
    "import numpy\n",
    "print('numpy:', numpy.__version__)\n",
    "\n",
    "import scipy\n",
    "print('scipy:', scipy.__version__)\n",
    "\n",
    "import matplotlib\n",
    "print('matplotlib:', matplotlib.__version__)\n",
    "\n",
    "import ocelot\n",
    "print('ocelot:', ocelot.__version__)"
   ]
  },
  {
   "cell_type": "markdown",
   "metadata": {},
   "source": [
    "<a id=\"tutorial1\"></a>\n",
    "## Tutorial N1. Double Bend Achromat.\n",
    "\n",
    "We designed a simple lattice to demonstrate the basic concepts and syntax of the optics functions calculation. \n",
    "Also, we chose DBA to demonstrate the periodic solution for the optical functions calculation. "
   ]
  },
  {
   "cell_type": "code",
   "execution_count": 7,
   "metadata": {},
   "outputs": [],
   "source": [
    "from __future__ import print_function\n",
    "\n",
    "# the output of plotting commands is displayed inline within frontends, \n",
    "# directly below the code cell that produced it\n",
    "%matplotlib inline\n",
    "\n",
    "# import from Ocelot main modules and functions\n",
    "from ocelot import *\n",
    "\n",
    "# import from Ocelot graphical modules\n",
    "from ocelot.gui.accelerator import *"
   ]
  },
  {
   "cell_type": "markdown",
   "metadata": {},
   "source": [
    "## Creating lattice\n",
    "Ocelot has following elements: Drift, Quadrupole, Sextupole, Octupole, Bend, SBend, RBend, Edge, Multipole, Hcor, Vcor, Solenoid, Cavity, Monitor, Marker, Undulator. "
   ]
  },
  {
   "cell_type": "code",
   "execution_count": 8,
   "metadata": {},
   "outputs": [],
   "source": [
    "# defining of the drifts\n",
    "D1 = Drift(l=2.)\n",
    "D2 = Drift(l=0.6)\n",
    "D3 = Drift(l=0.3)\n",
    "D4 = Drift(l=0.7)\n",
    "D5 = Drift(l=0.9)\n",
    "D6 = Drift(l=0.2)\n",
    "\n",
    "# defining of the quads\n",
    "Q1 = Quadrupole(l=0.4, k1=-1.3)\n",
    "Q2 = Quadrupole(l=0.8, k1=1.4)\n",
    "Q3 = Quadrupole(l=0.4, k1=-1.7)\n",
    "Q4 = Quadrupole(l=0.5, k1=1.3)\n",
    "\n",
    "# defining of the bending magnet\n",
    "B = Bend(l=2.7, k1=-.06, angle=2*pi/16., e1=pi/16., e2=pi/16.)\n",
    "\n",
    "# defining of the sextupoles\n",
    "SF = Sextupole(l=0.01, k2=1.5) #random value\n",
    "SD = Sextupole(l=0.01, k2=-1.5) #random value\n",
    "\n",
    "# cell creating\n",
    "cell = (D1, Q1, D2, Q2, D3, Q3, D4, B, D5, SD, D5, SF, D6, Q4, D6,\n",
    "        SF, D5, SD, D5, B, D4, Q3, D3, Q2, D2, Q1, D1)"
   ]
  },
  {
   "cell_type": "code",
   "execution_count": 9,
   "metadata": {},
   "outputs": [
    {
     "data": {
      "text/plain": [
       "(<ocelot.cpbd.elements.Drift at 0x1c1adf8d90>,\n",
       " <ocelot.cpbd.elements.Quadrupole at 0x1c1adf8ed0>,\n",
       " <ocelot.cpbd.elements.Drift at 0x1c1ad0cb10>,\n",
       " <ocelot.cpbd.elements.Quadrupole at 0x1c1adf8f50>,\n",
       " <ocelot.cpbd.elements.Drift at 0x1c1abeaf10>,\n",
       " <ocelot.cpbd.elements.Quadrupole at 0x1c1ae06050>,\n",
       " <ocelot.cpbd.elements.Drift at 0x1c1adf8d50>,\n",
       " <ocelot.cpbd.elements.Bend at 0x1c1ae06190>,\n",
       " <ocelot.cpbd.elements.Drift at 0x1c1adf8dd0>,\n",
       " <ocelot.cpbd.elements.Sextupole at 0x1c1a941050>,\n",
       " <ocelot.cpbd.elements.Drift at 0x1c1adf8dd0>,\n",
       " <ocelot.cpbd.elements.Sextupole at 0x1c1ae06210>,\n",
       " <ocelot.cpbd.elements.Drift at 0x1c1adf8e50>,\n",
       " <ocelot.cpbd.elements.Quadrupole at 0x1c1ae060d0>,\n",
       " <ocelot.cpbd.elements.Drift at 0x1c1adf8e50>,\n",
       " <ocelot.cpbd.elements.Sextupole at 0x1c1ae06210>,\n",
       " <ocelot.cpbd.elements.Drift at 0x1c1adf8dd0>,\n",
       " <ocelot.cpbd.elements.Sextupole at 0x1c1a941050>,\n",
       " <ocelot.cpbd.elements.Drift at 0x1c1adf8dd0>,\n",
       " <ocelot.cpbd.elements.Bend at 0x1c1ae06190>,\n",
       " <ocelot.cpbd.elements.Drift at 0x1c1adf8d50>,\n",
       " <ocelot.cpbd.elements.Quadrupole at 0x1c1ae06050>,\n",
       " <ocelot.cpbd.elements.Drift at 0x1c1abeaf10>,\n",
       " <ocelot.cpbd.elements.Quadrupole at 0x1c1adf8f50>,\n",
       " <ocelot.cpbd.elements.Drift at 0x1c1ad0cb10>,\n",
       " <ocelot.cpbd.elements.Quadrupole at 0x1c1adf8ed0>,\n",
       " <ocelot.cpbd.elements.Drift at 0x1c1adf8d90>)"
      ]
     },
     "execution_count": 9,
     "metadata": {},
     "output_type": "execute_result"
    }
   ],
   "source": [
    "cell"
   ]
  },
  {
   "cell_type": "markdown",
   "metadata": {},
   "source": [
    "*hint: to see a simple description of the function put cursor inside () and press **Shift-Tab** or you can type sign **?** before function. To extend dialog window press **+** *\n",
    "Also, one can get more info about element just using ```print(element)```"
   ]
  },
  {
   "cell_type": "code",
   "execution_count": 10,
   "metadata": {},
   "outputs": [
    {
     "name": "stdout",
     "output_type": "stream",
     "text": [
      "Bend : id = ID_6257188_\n",
      "l       =  2.7000 m\n",
      "angle   =  22.500 deg\n",
      "e1      =  11.250 deg\n",
      "e2      =  11.250 deg\n",
      "tilt    =   0.000 deg\n",
      "fint    =   0.000\n",
      "fintx   =   0.000\n",
      "gap     =  0.0000 m\n",
      "h_pole1 =  0.0000 1/m\n",
      "h_pole2 =  0.0000 1/m\n",
      "\n"
     ]
    }
   ],
   "source": [
    "print(B)"
   ]
  },
  {
   "cell_type": "markdown",
   "metadata": {},
   "source": [
    "The cell is a list of the simple objects which contain a physical information of lattice elements such as length, strength, voltage and so on. In order to create a transport map for every element and bind it with lattice object we have to create new Ocelot object - MagneticLattice() which makes these things automatically. \n",
    "\n",
    "MagneticLattice(sequence, start=None, stop=None, method=MethodTM()):     \n",
    "* sequence - list of the elements,\n",
    "\n",
    "other parameters we will consider in tutorial N2. "
   ]
  },
  {
   "cell_type": "code",
   "execution_count": 11,
   "metadata": {},
   "outputs": [
    {
     "name": "stdout",
     "output_type": "stream",
     "text": [
      "length of the cell:  20.34 m\n"
     ]
    }
   ],
   "source": [
    "lat = MagneticLattice(cell)\n",
    "\n",
    "# to see total lenth of the lattice \n",
    "print(\"length of the cell: \", lat.totalLen, \"m\")"
   ]
  },
  {
   "cell_type": "markdown",
   "metadata": {},
   "source": [
    "### Optical function calculation\n",
    "Uses: \n",
    "* twiss() function and,\n",
    "* Twiss() object contains twiss parameters and other information at one certain position (s) of lattice\n",
    "\n",
    "To calculate twiss parameters you have to run **twiss(lattice, tws0=None, nPoints=None)** function. If you want to get a periodic solution leave tws0 by default. \n",
    "\n",
    "You can change the number of points over the cell, If nPoints=None, then twiss parameters are calculated at the end of each element.\n",
    "twiss() function returns list of Twiss() objects.\n",
    "\n",
    "##### You will see the Twiss object contains more information than just twiss parameters. "
   ]
  },
  {
   "cell_type": "code",
   "execution_count": 12,
   "metadata": {},
   "outputs": [
    {
     "name": "stdout",
     "output_type": "stream",
     "text": [
      "length =  1000\n",
      "False\n"
     ]
    }
   ],
   "source": [
    "tws = twiss(lat, nPoints=1000)\n",
    "\n",
    "# to see twiss paraments at the begining of the cell, uncomment next line\n",
    "# print(tws[0])\n",
    "print(\"length = \", len(tws))\n",
    "# to see twiss paraments at the end of the cell, uncomment next line\n",
    "print(tws[998] == tws[-1])"
   ]
  },
  {
   "cell_type": "code",
   "execution_count": 13,
   "metadata": {},
   "outputs": [
    {
     "data": {
      "image/png": "[encoded data removed]",
      "text/plain": [
       "<Figure size 432x288 with 3 Axes>"
      ]
     },
     "metadata": {
      "needs_background": "light"
     },
     "output_type": "display_data"
    }
   ],
   "source": [
    "# plot optical functions.\n",
    "plot_opt_func(lat, tws, top_plot = [\"Dx\", \"Dy\"], legend=False, font_size=10)\n",
    "plt.show()\n",
    "\n",
    "# you also can use standard matplotlib functions for plotting\n",
    "#s = [tw.s for tw in tws]\n",
    "#bx = [tw.beta_x for tw in tws]\n",
    "#plt.plot(s, bx)\n",
    "#plt.show()"
   ]
  },
  {
   "cell_type": "code",
   "execution_count": 14,
   "metadata": {},
   "outputs": [
    {
     "data": {
      "image/png": "[encoded data removed]",
      "text/plain": [
       "<Figure size 432x288 with 3 Axes>"
      ]
     },
     "metadata": {
      "needs_background": "light"
     },
     "output_type": "display_data"
    }
   ],
   "source": [
    "# you can play with quadrupole strength and try to make achromat\n",
    "Q4.k1 = 1.18\n",
    "\n",
    "# to make achromat uncomment next line\n",
    "# Q4.k1 =  1.18543769836\n",
    "# To use matching function, please see ocelot/demos/ebeam/dba.py \n",
    "\n",
    "# updating transfer maps after changing element parameters. \n",
    "lat.update_transfer_maps()\n",
    "\n",
    "# recalculate twiss parameters \n",
    "tws=twiss(lat, nPoints=1000)\n",
    "\n",
    "plot_opt_func(lat, tws, legend=False)\n",
    "plt.show()"
   ]
  },
  {
   "cell_type": "code",
   "execution_count": null,
   "metadata": {},
   "outputs": [],
   "source": []
  },
  {
   "cell_type": "code",
   "execution_count": null,
   "metadata": {},
   "outputs": [],
   "source": []
  },
  {
   "cell_type": "code",
   "execution_count": null,
   "metadata": {},
   "outputs": [],
   "source": []
  }
 ],
 "metadata": {
  "anaconda-cloud": {},
  "kernelspec": {
   "display_name": "Python 3",
   "language": "python",
   "name": "python3"
  },
  "language_info": {
   "codemirror_mode": {
    "name": "ipython",
    "version": 3
   },
   "file_extension": ".py",
   "mimetype": "text/x-python",
   "name": "python",
   "nbconvert_exporter": "python",
   "pygments_lexer": "ipython3",
   "version": "3.7.7"
  },
  "name": ""
 },
 "nbformat": 4,
 "nbformat_minor": 1
}
